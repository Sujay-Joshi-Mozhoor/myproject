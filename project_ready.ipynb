{
 "cells": [
  {
   "cell_type": "markdown",
   "id": "b4f500cd",
   "metadata": {},
   "source": [
    "# Airline Passenger Satisfaction factors analysis"
   ]
  },
  {
   "cell_type": "code",
   "execution_count": null,
   "id": "a228d62b",
   "metadata": {},
   "outputs": [],
   "source": [
    "from PIL import Image\n",
    "aeroplane=Image.open(r'C:\\Users\\LENOVO\\Desktop\\data analyst\\New folder\\pexels-pixabay-164589.jpg')\n",
    "aeroplane"
   ]
  },
  {
   "cell_type": "code",
   "execution_count": null,
   "id": "eb8712ad",
   "metadata": {},
   "outputs": [],
   "source": [
    "import pandas as pd\n",
    "import matplotlib.pyplot as plt\n",
    "import seaborn as sns\n",
    "%matplotlib inline\n",
    "import chart_studio.plotly as plty\n",
    "import cufflinks as cf\n",
    "from plotly.offline import download_plotlyjs,init_notebook_mode,plot,iplot\n",
    "init_notebook_mode(connected=True)\n",
    "cf.go_offline()\n",
    "from sklearn.preprocessing import StandardScaler"
   ]
  },
  {
   "cell_type": "markdown",
   "id": "752a4bcc",
   "metadata": {},
   "source": [
    "# Data Collection"
   ]
  },
  {
   "cell_type": "code",
   "execution_count": null,
   "id": "3b6a615c",
   "metadata": {},
   "outputs": [],
   "source": [
    "airline_df=pd.read_csv(r\"C:\\Users\\LENOVO\\Desktop\\data analyst\\datasets\\air passenger\\air passengers.csv\")"
   ]
  },
  {
   "cell_type": "code",
   "execution_count": null,
   "id": "261df68c",
   "metadata": {},
   "outputs": [],
   "source": [
    "airline_df.head()"
   ]
  },
  {
   "cell_type": "code",
   "execution_count": null,
   "id": "beba1b61",
   "metadata": {},
   "outputs": [],
   "source": [
    "airline_df.shape"
   ]
  },
  {
   "cell_type": "code",
   "execution_count": null,
   "id": "88199ec2",
   "metadata": {},
   "outputs": [],
   "source": [
    "airline_df.tail(7)"
   ]
  },
  {
   "cell_type": "markdown",
   "id": "19001a60",
   "metadata": {},
   "source": [
    "# Analysing and Cleaning Data"
   ]
  },
  {
   "cell_type": "code",
   "execution_count": null,
   "id": "feb9d4d0",
   "metadata": {},
   "outputs": [],
   "source": [
    "airline_df.columns"
   ]
  },
  {
   "cell_type": "code",
   "execution_count": null,
   "id": "c8d5831a",
   "metadata": {},
   "outputs": [],
   "source": [
    "airline_df.drop('Unnamed: 0',axis=1,inplace=True)"
   ]
  },
  {
   "cell_type": "code",
   "execution_count": null,
   "id": "ef81cada",
   "metadata": {},
   "outputs": [],
   "source": [
    "airline_df.info()"
   ]
  },
  {
   "cell_type": "code",
   "execution_count": null,
   "id": "843c621e",
   "metadata": {},
   "outputs": [],
   "source": [
    "airline_df.describe()"
   ]
  },
  {
   "cell_type": "code",
   "execution_count": null,
   "id": "9303236b",
   "metadata": {},
   "outputs": [],
   "source": [
    "airline_df.isna().sum()"
   ]
  },
  {
   "cell_type": "code",
   "execution_count": null,
   "id": "ef4ea416",
   "metadata": {},
   "outputs": [],
   "source": [
    "# Filling the missing values of 'Arrival Delay in Minutes' with mean value\n",
    "Arrival_Delay_mean=airline_df['Arrival Delay in Minutes'].mean()\n",
    "Arrival_Delay_mean"
   ]
  },
  {
   "cell_type": "code",
   "execution_count": null,
   "id": "c61d93c2",
   "metadata": {},
   "outputs": [],
   "source": [
    "airline_df['Arrival Delay in Minutes'].fillna(value=Arrival_Delay_mean,inplace=True)"
   ]
  },
  {
   "cell_type": "code",
   "execution_count": null,
   "id": "0aa207d7",
   "metadata": {},
   "outputs": [],
   "source": [
    "airline_df.isna().sum()"
   ]
  },
  {
   "cell_type": "code",
   "execution_count": null,
   "id": "170dbf63",
   "metadata": {},
   "outputs": [],
   "source": [
    "plt.figure(figsize=(7,5))\n",
    "sns.histplot(x='Age',hue='satisfaction',multiple=\"stack\",bins=10,palette='coolwarm',\n",
    "              edgecolor=\".3\",\n",
    "              linewidth=.5,data=airline_df)\n",
    "sns.despine()\n",
    "# Thus we can see that people in age group 25-55 are most dissatisfied\n",
    "# No of flyers are more in range 25-60 years"
   ]
  },
  {
   "cell_type": "code",
   "execution_count": null,
   "id": "e2b7368d",
   "metadata": {},
   "outputs": [],
   "source": [
    "sns.countplot(x='satisfaction',palette='coolwarm',saturation=2.0,data=airline_df)\n",
    "sns.despine()\n",
    "# People flying are more dissatisfied than satisfied"
   ]
  },
  {
   "cell_type": "code",
   "execution_count": null,
   "id": "4d55b3fc",
   "metadata": {},
   "outputs": [],
   "source": [
    "airline_df['satisfaction'].value_counts()"
   ]
  },
  {
   "cell_type": "code",
   "execution_count": null,
   "id": "52d84d61",
   "metadata": {},
   "outputs": [],
   "source": [
    "data=[58879,45025]\n",
    "keys=['unsatisfied passengers','satisfied passengers']\n",
    "palette_color = sns.color_palette('bright')"
   ]
  },
  {
   "cell_type": "code",
   "execution_count": null,
   "id": "567994af",
   "metadata": {},
   "outputs": [],
   "source": [
    "plt.pie(data,labels=keys,autopct='%.0f%%',colors=palette_color)"
   ]
  },
  {
   "cell_type": "code",
   "execution_count": null,
   "id": "6d976057",
   "metadata": {},
   "outputs": [],
   "source": [
    "airline_df.columns"
   ]
  },
  {
   "cell_type": "code",
   "execution_count": null,
   "id": "d8afd4b2",
   "metadata": {},
   "outputs": [],
   "source": [
    "airline_df['Cleanliness'].mean()\n",
    "# Thus cleanliness on average is poor"
   ]
  },
  {
   "cell_type": "code",
   "execution_count": null,
   "id": "f6bddcf9",
   "metadata": {},
   "outputs": [],
   "source": [
    "airline_df['Flight Distance'].mean()\n",
    "# Average flight distance is 1189 km"
   ]
  },
  {
   "cell_type": "code",
   "execution_count": null,
   "id": "0d9e3a2b",
   "metadata": {},
   "outputs": [],
   "source": [
    "sns.set_style(\"ticks\")\n",
    "sns.histplot(x='Customer Type',hue='satisfaction',data=airline_df,bins=2,multiple=\"dodge\",shrink=0.5\n",
    "            ,palette='coolwarm',edgecolor=\".3\",\n",
    "            linewidth=.5)\n",
    "sns.despine()\n",
    "# Thus disloyal customers are more dissatisfied "
   ]
  },
  {
   "cell_type": "code",
   "execution_count": null,
   "id": "16979a5e",
   "metadata": {},
   "outputs": [],
   "source": [
    "airline_df['Gender'].value_counts()"
   ]
  },
  {
   "cell_type": "code",
   "execution_count": null,
   "id": "6d4c5f13",
   "metadata": {},
   "outputs": [],
   "source": [
    "sns.countplot(x='Gender',data=airline_df,palette='magma')"
   ]
  },
  {
   "cell_type": "code",
   "execution_count": null,
   "id": "61bccb2c",
   "metadata": {},
   "outputs": [],
   "source": [
    "sns.set_style('white')\n",
    "plt.figure(figsize=(7,4))\n",
    "ax=sns.histplot(x=\"Gender\",hue=\"satisfaction\",data=airline_df,multiple=\"dodge\",shrink=0.5,\n",
    "            edgecolor=\".3\",\n",
    "            palette='coolwarm',\n",
    "            linewidth=.5)\n",
    "sns.move_legend(ax,\"upper right\",bbox_to_anchor=(1.5, 1))\n",
    "sns.despine()"
   ]
  },
  {
   "cell_type": "code",
   "execution_count": null,
   "id": "ab75a4d0",
   "metadata": {},
   "outputs": [],
   "source": [
    "airline_df.columns"
   ]
  },
  {
   "cell_type": "code",
   "execution_count": null,
   "id": "c00d0183",
   "metadata": {},
   "outputs": [],
   "source": [
    "sns.histplot(x='Flight Distance',hue='satisfaction',data=airline_df,bins=20,multiple=\"stack\",\n",
    "             edgecolor=\".3\",\n",
    "             palette='coolwarm',\n",
    "             linewidth=.5)\n",
    "sns.despine()\n",
    "# shorter flights must be taken care of more"
   ]
  },
  {
   "cell_type": "code",
   "execution_count": null,
   "id": "466c93c6",
   "metadata": {},
   "outputs": [],
   "source": [
    "# Thus we can see that shorter duration flights have more dissatisfied customers"
   ]
  },
  {
   "cell_type": "code",
   "execution_count": null,
   "id": "02109cb0",
   "metadata": {},
   "outputs": [],
   "source": [
    "sns.histplot(x='Cleanliness',hue='satisfaction',data=airline_df,multiple=\"stack\",bins=5,\n",
    "             edgecolor=\".3\",\n",
    "             palette='coolwarm',\n",
    "             linewidth=.5)\n",
    "# Thus flights must be clean to ensure satisfaction \n",
    "# 1 indicates cleanliness is low and 5 indicates good cleanliness in flight\n",
    "# Thus we can see that as cleanliness increases satisfied passengers are more"
   ]
  },
  {
   "cell_type": "code",
   "execution_count": null,
   "id": "3250aa75",
   "metadata": {},
   "outputs": [],
   "source": [
    "plt.figure(figsize=(7,5))\n",
    "ax=sns.histplot(x='Class',hue='satisfaction',data=airline_df,multiple=\"dodge\",\n",
    "             edgecolor=\".3\",\n",
    "            palette='coolwarm',\n",
    "            linewidth=.5,bins=2)\n",
    "sns.move_legend(ax,\"upper right\",bbox_to_anchor=(1.5,1))\n",
    "sns.despine()\n",
    "# Economy class passengers must be catered to more"
   ]
  },
  {
   "cell_type": "code",
   "execution_count": null,
   "id": "f307a54e",
   "metadata": {},
   "outputs": [],
   "source": [
    "# Thus Biz class passengers are most satisfied while Eco class passengers are least satisfied"
   ]
  },
  {
   "cell_type": "code",
   "execution_count": null,
   "id": "0da4069c",
   "metadata": {},
   "outputs": [],
   "source": [
    "airline_df['Type of Travel'].head()"
   ]
  },
  {
   "cell_type": "code",
   "execution_count": null,
   "id": "6aa08a88",
   "metadata": {},
   "outputs": [],
   "source": [
    "sns.histplot(x='Type of Travel',hue='satisfaction',data=airline_df,multiple=\"stack\",\n",
    "            palette='coolwarm'\n",
    "            ,linewidth=.5,\n",
    "            edgecolor=\".3\")\n",
    "# People on personal travel needs more catering"
   ]
  },
  {
   "cell_type": "code",
   "execution_count": null,
   "id": "7588bfa0",
   "metadata": {},
   "outputs": [],
   "source": [
    "airline_df['satisfaction'].iplot(kind=\"hist\",bins=5,bargap=0)"
   ]
  },
  {
   "cell_type": "markdown",
   "id": "674145f3",
   "metadata": {},
   "source": [
    "# Training and Testing Data"
   ]
  },
  {
   "cell_type": "code",
   "execution_count": null,
   "id": "acd23b8d",
   "metadata": {},
   "outputs": [],
   "source": [
    "# Conversion to numeric values  \n",
    "\n",
    "airline_df['Type of Travel'].replace(regex={\"Personal Travel\":0,\"Business travel\":1},inplace=True)\n",
    "airline_df['Class'].replace(regex={\"Eco\":1,\"Eco Plus\":2,\"Business\":3},inplace=True)\n",
    "airline_df['Class'].replace(regex={\"Eco\":1,\"Eco Plus\":2,\"Business\":3},inplace=True)\n",
    "airline_df['satisfaction'].replace(regex={\"neutral or dissatisfied\":0,\"satisfied\":1},inplace=True)\n",
    "airline_df['Customer Type'].replace(regex={\"disloyal Customer\":0,\"Loyal Customer\":1},inplace=True)\n",
    "\n",
    "\n",
    "hm=airline_df[['Gender', 'Customer Type', 'Age', 'Type of Travel',\n",
    "       'Class', 'Flight Distance',\n",
    "       'Cleanliness', 'Departure Delay in Minutes', 'Arrival Delay in Minutes',\n",
    "       'satisfaction']]"
   ]
  },
  {
   "cell_type": "code",
   "execution_count": null,
   "id": "573667e1",
   "metadata": {},
   "outputs": [],
   "source": [
    "tc=hm.corr()\n",
    "plt.subplots(figsize=(7,7))\n",
    "sns.heatmap(tc,annot=True,cmap=\"YlGnBu\",vmin=0,vmax=1,linewidths=0.7)"
   ]
  },
  {
   "cell_type": "code",
   "execution_count": null,
   "id": "5d6c36e9",
   "metadata": {},
   "outputs": [],
   "source": [
    "# Thus we can see the most important factors for satisfaction are\n",
    "# Type of travel(R)\n",
    "# Class(R)\n",
    "# Cleanliness(R)\n",
    "# Flight Distance(R)\n",
    "# Customer Type(R)\n",
    "# Age(R)"
   ]
  },
  {
   "cell_type": "code",
   "execution_count": null,
   "id": "506a2370",
   "metadata": {},
   "outputs": [],
   "source": [
    "X=airline_df[['Type of Travel','Class','Cleanliness','Flight Distance','Customer Type','Age']]\n",
    "y=airline_df['satisfaction']"
   ]
  },
  {
   "cell_type": "code",
   "execution_count": null,
   "id": "f41e459f",
   "metadata": {},
   "outputs": [],
   "source": [
    "from sklearn.model_selection import train_test_split\n",
    "from sklearn.linear_model import LogisticRegression\n",
    "from sklearn.metrics import accuracy_score,confusion_matrix,classification_report"
   ]
  },
  {
   "cell_type": "code",
   "execution_count": null,
   "id": "b5347220",
   "metadata": {},
   "outputs": [],
   "source": [
    " X_train, X_test, y_train, y_test = train_test_split(X, y, test_size=0.3, random_state=42)"
   ]
  },
  {
   "cell_type": "markdown",
   "id": "5c639a33",
   "metadata": {},
   "source": [
    "# Applying Logistic Regression"
   ]
  },
  {
   "cell_type": "code",
   "execution_count": null,
   "id": "0a669cd6",
   "metadata": {},
   "outputs": [],
   "source": [
    "logmodel=LogisticRegression(solver='lbfgs', max_iter=1000)\n",
    "\n",
    "# scaler=StandardScaler()"
   ]
  },
  {
   "cell_type": "code",
   "execution_count": null,
   "id": "f62766bb",
   "metadata": {},
   "outputs": [],
   "source": [
    "logmodel.fit(X_train,y_train)  "
   ]
  },
  {
   "cell_type": "code",
   "execution_count": null,
   "id": "691a76c0",
   "metadata": {},
   "outputs": [],
   "source": [
    "# X_train=scaler.fit_transform(X_train)\n",
    "# X_test=scaler.transform(X_test)\n",
    "# y_"
   ]
  },
  {
   "cell_type": "code",
   "execution_count": null,
   "id": "2ed7b07a",
   "metadata": {},
   "outputs": [],
   "source": [
    "predictions=logmodel.predict(X_test)\n",
    "predictions"
   ]
  },
  {
   "cell_type": "markdown",
   "id": "9f98e41a",
   "metadata": {},
   "source": [
    "# Accuracy Check"
   ]
  },
  {
   "cell_type": "code",
   "execution_count": null,
   "id": "ffa7bdbc",
   "metadata": {},
   "outputs": [],
   "source": [
    "print(classification_report(y_test,predictions))"
   ]
  },
  {
   "cell_type": "code",
   "execution_count": null,
   "id": "f7900a8a",
   "metadata": {},
   "outputs": [],
   "source": [
    "confusion_matrix(y_test,predictions)"
   ]
  },
  {
   "cell_type": "code",
   "execution_count": null,
   "id": "f5e41728",
   "metadata": {},
   "outputs": [],
   "source": [
    "accuracy_score(y_test,predictions)*100\n",
    "# Thus 82 percent accuracy"
   ]
  }
 ],
 "metadata": {
  "kernelspec": {
   "display_name": "Python 3 (ipykernel)",
   "language": "python",
   "name": "python3"
  },
  "language_info": {
   "codemirror_mode": {
    "name": "ipython",
    "version": 3
   },
   "file_extension": ".py",
   "mimetype": "text/x-python",
   "name": "python",
   "nbconvert_exporter": "python",
   "pygments_lexer": "ipython3",
   "version": "3.9.12"
  }
 },
 "nbformat": 4,
 "nbformat_minor": 5
}
